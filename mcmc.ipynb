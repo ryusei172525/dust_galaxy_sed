{
 "cells": [
  {
   "cell_type": "code",
   "execution_count": null,
   "metadata": {},
   "outputs": [
    {
     "ename": "",
     "evalue": "",
     "output_type": "error",
     "traceback": [
      "\u001b[1;31m現在のセルまたは前のセルでコードを実行中に、カーネル (Kernel) がクラッシュしました。\n",
      "\u001b[1;31mエラーの原因を特定するには、セル内のコードを確認してください。\n",
      "\u001b[1;31m詳細については<a href='https://aka.ms/vscodeJupyterKernelCrash'>こちら</a>をクリックします。\n",
      "\u001b[1;31m詳細については、Jupyter <a href='command:jupyter.viewOutput'>ログ</a> を参照してください。"
     ]
    }
   ],
   "source": [
    "import nest_asyncio\n",
    "\n",
    "import sys\n",
    "import asyncio\n",
    "from galaxy_sed.mcmc import MCMCOptimizer\n",
    "from galaxy_sed.diagram import delete_past_data\n",
    "from galaxy_sed.hyperparams import get_hyperparams\n",
    "\n",
    "sys.path.append('/home/ryuseikano/Study/dust_galaxy_sed')\n",
    "\n",
    "# ネストされたイベントループを許可\n",
    "nest_asyncio.apply()\n",
    "\n",
    "galaxy_age = 4  # 4: 500Myr, 5: 600Myr, 129: 130Myr=13Gyr\n",
    "galaxy_mass = 100  # 1: 1e9, 100:1e11\n",
    "starformation_timescale_Gyr = 3.9 # 1: 1Gyr\n",
    "\n",
    "# 初期値の設定\n",
    "n_walkers = 50\n",
    "n_dimensions = 6\n",
    "\n",
    "# 各パラメータの下限と上限を設定\n",
    "param_limits = {\n",
    "    \"galaxy_mass_min\": 1, \"galaxy_mass_max\": 700,\n",
    "    \"galaxy_age_min\": 0, \"galaxy_age_max\": 10,\n",
    "    \"starformation_timescale_min\": 0.01, \"starformation_timescale_max\": 5,\n",
    "    \"gas_infall_timescale_min\": 0.01, \"gas_infall_timescale_max\": 15,\n",
    "    \"n0_cnm_min\": 1, \"n0_cnm_max\": 1000,\n",
    "    \"sigma_min\": 0.01, \"sigma_max\": 1.0\n",
    "}\n",
    "\n",
    "async def main():\n",
    "    # delete_past_data()\n",
    "    # ハイパーパラメータを取得\n",
    "    hyperparams = get_hyperparams(galaxy_age=galaxy_age, galaxy_mass=galaxy_mass, starformation_timescale=starformation_timescale_Gyr)  # galaxy_age のみを指定\n",
    "    observational_data = 'observation/MACS0416Y1.dat'\n",
    "\n",
    "    result = await MCMCOptimizer.run_mcmc(hyperparams, observational_data, n_walkers, n_dimensions, param_limits)  # 辞書を渡す\n",
    "\n",
    "    print(\"計算終了\")\n",
    "    delete_past_data()\n",
    "\n",
    "# イベントループを実行\n",
    "if __name__ == \"__main__\":\n",
    "    asyncio.run(main())  # main関数を非同期に実行\n"
   ]
  }
 ],
 "metadata": {
  "kernelspec": {
   "display_name": "GalaxySED",
   "language": "python",
   "name": "python3"
  },
  "language_info": {
   "codemirror_mode": {
    "name": "ipython",
    "version": 3
   },
   "file_extension": ".py",
   "mimetype": "text/x-python",
   "name": "python",
   "nbconvert_exporter": "python",
   "pygments_lexer": "ipython3",
   "version": "3.11.10"
  }
 },
 "nbformat": 4,
 "nbformat_minor": 2
}
