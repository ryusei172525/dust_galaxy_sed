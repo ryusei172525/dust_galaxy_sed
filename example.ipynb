{
 "cells": [
  {
   "cell_type": "code",
   "execution_count": 3,
   "metadata": {},
   "outputs": [
    {
     "name": "stdout",
     "output_type": "stream",
     "text": [
      "計算結果: [7.5, 7.5, 7.5, 7.5, 7.5, 7.5, 7.5, 7.5, 7.5, 7.5]\n"
     ]
    }
   ],
   "source": [
    "from galaxy_sed.mcmc import MCMCOptimizer\n",
    "\n",
    "# パラメータ範囲を定義\n",
    "age_range = (0.1, 10.0)\n",
    "mass_range = (1e8, 1e11)\n",
    "initial_params = [5.0, 10.0]  # 初期パラメータ\n",
    "\n",
    "optimizer = MCMCOptimizer(age_range, mass_range)\n",
    "result = optimizer.run_mcmc(initial_params)\n",
    "\n",
    "print(\"計算結果:\", result)"
   ]
  }
 ],
 "metadata": {
  "kernelspec": {
   "display_name": "galaxysed",
   "language": "python",
   "name": "python3"
  },
  "language_info": {
   "codemirror_mode": {
    "name": "ipython",
    "version": 3
   },
   "file_extension": ".py",
   "mimetype": "text/x-python",
   "name": "python",
   "nbconvert_exporter": "python",
   "pygments_lexer": "ipython3",
   "version": "3.11.10"
  }
 },
 "nbformat": 4,
 "nbformat_minor": 2
}
