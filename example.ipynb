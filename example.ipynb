{
 "cells": [
  {
   "cell_type": "code",
   "execution_count": null,
   "metadata": {},
   "outputs": [],
   "source": [
    "import nest_asyncio\n",
    "\n",
    "import sys\n",
    "sys.path.append('/home/ryuseikano/Study/dust_galaxy_sed')\n",
    "\n",
    "# ネストされたイベントループを許可\n",
    "nest_asyncio.apply()"
   ]
  },
  {
   "cell_type": "code",
   "execution_count": null,
   "metadata": {},
   "outputs": [],
   "source": [
    "import numpy as np\n",
    "import matplotlib.pyplot as plt\n",
    "\n",
    "def observational_sed_diagram(observational_data):\n",
    "    # Load data\n",
    "    data = np.loadtxt(observational_data, skiprows=1)\n",
    "    t = data[:, 0]\n",
    "    y = data[:, 1]\n",
    "    error_plus = data[:, 2]\n",
    "    error_minus = data[:, 3]\n",
    "    upper_limit = data[:, 4].astype(bool)\n",
    "\n",
    "    # Separate normal and upper limit data\n",
    "    t_normal = t[~upper_limit]\n",
    "    y_normal = y[~upper_limit]\n",
    "    errors_normal = [error_minus[~upper_limit], error_plus[~upper_limit]]\n",
    "\n",
    "    t_upper = t[upper_limit]\n",
    "    y_upper = y[upper_limit]\n",
    "\n",
    "    # Plot setup\n",
    "    plt.figure(figsize=(10, 6))\n",
    "\n",
    "    # Plot normal observed data with error bars\n",
    "    plt.errorbar(t_normal, y_normal, yerr=errors_normal, fmt='o', color='blue', label='Observed Data')\n",
    "\n",
    "    # Plot upper limits with dashed lines and longer downward arrows\n",
    "    for i in range(len(t_upper)):\n",
    "        # Add dashed horizontal line\n",
    "        plt.hlines(y_upper[i], t_upper[i] * 0.9, t_upper[i] * 1.1, color='red', linestyles='dashed')\n",
    "        \n",
    "        # Add a longer downward arrow at the end of the line\n",
    "        plt.annotate('', xy=(t_upper[i], y_upper[i] * 0.5), xytext=(t_upper[i], y_upper[i] * 12),\n",
    "                     arrowprops=dict(arrowstyle=\"->\", color='red'))\n",
    "\n",
    "    # Graph settings\n",
    "    plt.xscale('log')\n",
    "    plt.yscale('log')\n",
    "    plt.xlabel('Wavelength [$\\mu$m]', fontsize=15)\n",
    "    plt.ylabel('$\\lambda L_\\lambda $[erg s$^{-1}$ $L_\\odot^{-1}$]', fontsize=15)\n",
    "    plt.title('Observation Data with Upper Limits and Error Bars')\n",
    "    plt.legend()\n",
    "    plt.grid()\n",
    "    plt.xlim(0.2e-1, 1e3)\n",
    "    plt.ylim(1e2, 1e13)\n",
    "\n",
    "    plt.show()\n",
    "\n",
    "# Display observational data\n",
    "observationnal_data = 'observation/MACS0416Y1.dat'\n",
    "observational_sed_diagram(observationnal_data)\n"
   ]
  },
  {
   "cell_type": "code",
   "execution_count": null,
   "metadata": {},
   "outputs": [],
   "source": [
    "import asyncio\n",
    "from galaxy_sed.mcmc import MCMCOptimizer\n",
    "from galaxy_sed.diagram import delete_past_data\n",
    "from galaxy_sed.hyperparams import get_hyperparams\n",
    "\n",
    "galaxy_age = 4  # 4: 500Myr, 5: 600Myr, 129: 130Myr=13Gyr\n",
    "galaxy_mass = 100  # 1: 1e9, 100:1e11\n",
    "starformation_timescale_Gyr = 3.9 # 1: 1Gyr\n",
    "\n",
    "# 初期値の設定\n",
    "n_walkers = 50\n",
    "n_dimensions = 6\n",
    "\n",
    "# 各パラメータの下限と上限を設定\n",
    "param_limits = {\n",
    "    \"galaxy_mass_min\": 1, \"galaxy_mass_max\": 700,\n",
    "    \"galaxy_age_min\": 0, \"galaxy_age_max\": 10,\n",
    "    \"starformation_timescale_min\": 0.01, \"starformation_timescale_max\": 5,\n",
    "    \"gas_infall_timescale_min\": 0.01, \"gas_infall_timescale_max\": 15,\n",
    "    \"n0_cnm_min\": 1, \"n0_cnm_max\": 1000,\n",
    "    \"sigma_min\": 0.01, \"sigma_max\": 1.0\n",
    "}\n",
    "\n",
    "async def main():\n",
    "    # delete_past_data()\n",
    "    # ハイパーパラメータを取得\n",
    "    hyperparams = get_hyperparams(galaxy_age=galaxy_age, galaxy_mass=galaxy_mass, starformation_timescale=starformation_timescale_Gyr)  # galaxy_age のみを指定\n",
    "    observational_data = 'observation/MACS0416Y1.dat'\n",
    "\n",
    "    result = await MCMCOptimizer.run_mcmc(hyperparams, observational_data, n_walkers, n_dimensions, param_limits)  # 辞書を渡す\n",
    "\n",
    "    print(\"計算結果:\", result)\n",
    "\n",
    "# イベントループを実行\n",
    "if __name__ == \"__main__\":\n",
    "    asyncio.run(main())  # main関数を非同期に実行\n"
   ]
  },
  {
   "cell_type": "code",
   "execution_count": null,
   "metadata": {},
   "outputs": [],
   "source": [
    "from galaxy_sed.diagram import dust_to_gas_mass_ratio\n",
    "\n",
    "dust_to_gas_mass_ratio()"
   ]
  },
  {
   "cell_type": "code",
   "execution_count": null,
   "metadata": {},
   "outputs": [],
   "source": [
    "from galaxy_sed.diagram import sed_diagram\n",
    "\n",
    "sed_diagram()"
   ]
  }
 ],
 "metadata": {
  "kernelspec": {
   "display_name": "GalaxySED",
   "language": "python",
   "name": "python3"
  },
  "language_info": {
   "codemirror_mode": {
    "name": "ipython",
    "version": 3
   },
   "file_extension": ".py",
   "mimetype": "text/x-python",
   "name": "python",
   "nbconvert_exporter": "python",
   "pygments_lexer": "ipython3",
   "version": "3.11.10"
  }
 },
 "nbformat": 4,
 "nbformat_minor": 2
}
