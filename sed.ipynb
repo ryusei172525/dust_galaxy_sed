{
 "cells": [
  {
   "cell_type": "code",
   "execution_count": null,
   "metadata": {},
   "outputs": [],
   "source": [
    "import nest_asyncio\n",
    "\n",
    "import sys\n",
    "sys.path.append('/home/ryuseikano/Study/dust_galaxy_sed')\n",
    "\n",
    "# ネストされたイベントループを許可\n",
    "nest_asyncio.apply()"
   ]
  },
  {
   "cell_type": "code",
   "execution_count": 2,
   "metadata": {},
   "outputs": [
    {
     "name": "stdout",
     "output_type": "stream",
     "text": [
      "C++ Hyperparameters initialized\n",
      "Start C++\n",
      "Stellar spectrum (read files): 2 sec\n",
      "Asano model (calc before dust evolution): 1 sec\n",
      "Asano model (calc): 6 sec\n",
      "Stellar spectrum (calc): 0 sec\n",
      "Rho_cl = 8.73077e-23, Rho_ICM = 7.40669e-25, R_CLUMP = 3.20201e+19, f_cl = 0.0185005\n",
      "probability_MC inished\n",
      "for about dust finished\n",
      "dust species finished\n",
      "dust species finished\n",
      "dust species finished\n",
      "dust species finished\n",
      "hit_time_energy_val3finished\n",
      "hit_time_energy_val3finished\n",
      "T_hist_val2 finished\n",
      "T_val finished\n",
      "T_hist_val2 finished\n",
      "T_val finished\n",
      "WriteHist finished\n",
      "WriteHist finished\n",
      "hit_time_energy_val3finished\n",
      "hit_time_energy_val3finished\n",
      "BB_val2 finished\n",
      "L_val finished\n",
      "BB_val2 finished\n",
      "L_val finished\n",
      "T_hist_val2 finished\n",
      "T_val finished\n",
      "T_hist_val2 finished\n",
      "T_val finished\n",
      "WriteHist finished\n",
      "BB_val2 finished\n",
      "L_val finished\n",
      "for li finished\n",
      "L_dust_val finished\n",
      "ofs finished\n",
      "ofs2 finished\n",
      "for li finished\n",
      "L_dust_val finished\n",
      "ofs finished\n",
      "ofs2 finished\n",
      "WriteHist finished\n",
      "BB_val2 finished\n",
      "L_val finished\n",
      "LuminosityOfOneLambdaPerRadius finished\n",
      "WriteDustRadiationPerRadius finished\n",
      "WriteLuminosity finished\n",
      "LuminosityOfOneLambdaPerRadius finished\n",
      "WriteDustRadiationPerRadius finished\n",
      "WriteLuminosity finished\n",
      "for li finished\n",
      "L_dust_val finished\n",
      "ofs finished\n",
      "ofs2 finished\n",
      "for li finished\n",
      "L_dust_val finished\n",
      "ofs finished\n",
      "ofs2 finished\n",
      "LuminosityOfOneLambdaPerRadius finished\n",
      "WriteDustRadiationPerRadius finished\n",
      "WriteLuminosity finished\n",
      "LuminosityOfOneLambdaPerRadius finished\n",
      "WriteDustRadiationPerRadius finished\n",
      "WriteLuminosity finished\n",
      "for about dust2 finished\n",
      "Dust species loop: 2 sec\n",
      "Open file: \"/home/ryuseikano/Study/dust_galaxy_sed/galaxy_sed/Dust_cpp_pybind/calculation_result/makeSED/SED_M=1.00e11Msun_R=10.00kpc_h=150.00pc_t_sf=3.90e9yr_wnm0.50_cnm0.30_mc0.20_age4.dat\"\n",
      "Combine SEDs: 0 sec\n",
      "\n",
      "Total: 18 sec\n",
      "\n"
     ]
    },
    {
     "ename": "TypeError",
     "evalue": "object NoneType can't be used in 'await' expression",
     "output_type": "error",
     "traceback": [
      "\u001b[0;31m---------------------------------------------------------------------------\u001b[0m",
      "\u001b[0;31mTypeError\u001b[0m                                 Traceback (most recent call last)",
      "Cell \u001b[0;32mIn[2], line 19\u001b[0m\n\u001b[1;32m     17\u001b[0m \u001b[38;5;66;03m# イベントループを実行\u001b[39;00m\n\u001b[1;32m     18\u001b[0m \u001b[38;5;28;01mif\u001b[39;00m \u001b[38;5;18m__name__\u001b[39m \u001b[38;5;241m==\u001b[39m \u001b[38;5;124m\"\u001b[39m\u001b[38;5;124m__main__\u001b[39m\u001b[38;5;124m\"\u001b[39m:\n\u001b[0;32m---> 19\u001b[0m     asyncio\u001b[38;5;241m.\u001b[39mrun(main())\n",
      "File \u001b[0;32m~/anaconda3/envs/GalaxySED/lib/python3.11/site-packages/nest_asyncio.py:30\u001b[0m, in \u001b[0;36m_patch_asyncio.<locals>.run\u001b[0;34m(main, debug)\u001b[0m\n\u001b[1;32m     28\u001b[0m task \u001b[38;5;241m=\u001b[39m asyncio\u001b[38;5;241m.\u001b[39mensure_future(main)\n\u001b[1;32m     29\u001b[0m \u001b[38;5;28;01mtry\u001b[39;00m:\n\u001b[0;32m---> 30\u001b[0m     \u001b[38;5;28;01mreturn\u001b[39;00m loop\u001b[38;5;241m.\u001b[39mrun_until_complete(task)\n\u001b[1;32m     31\u001b[0m \u001b[38;5;28;01mfinally\u001b[39;00m:\n\u001b[1;32m     32\u001b[0m     \u001b[38;5;28;01mif\u001b[39;00m \u001b[38;5;129;01mnot\u001b[39;00m task\u001b[38;5;241m.\u001b[39mdone():\n",
      "File \u001b[0;32m~/anaconda3/envs/GalaxySED/lib/python3.11/site-packages/nest_asyncio.py:98\u001b[0m, in \u001b[0;36m_patch_loop.<locals>.run_until_complete\u001b[0;34m(self, future)\u001b[0m\n\u001b[1;32m     95\u001b[0m \u001b[38;5;28;01mif\u001b[39;00m \u001b[38;5;129;01mnot\u001b[39;00m f\u001b[38;5;241m.\u001b[39mdone():\n\u001b[1;32m     96\u001b[0m     \u001b[38;5;28;01mraise\u001b[39;00m \u001b[38;5;167;01mRuntimeError\u001b[39;00m(\n\u001b[1;32m     97\u001b[0m         \u001b[38;5;124m'\u001b[39m\u001b[38;5;124mEvent loop stopped before Future completed.\u001b[39m\u001b[38;5;124m'\u001b[39m)\n\u001b[0;32m---> 98\u001b[0m \u001b[38;5;28;01mreturn\u001b[39;00m f\u001b[38;5;241m.\u001b[39mresult()\n",
      "File \u001b[0;32m~/anaconda3/envs/GalaxySED/lib/python3.11/asyncio/futures.py:203\u001b[0m, in \u001b[0;36mFuture.result\u001b[0;34m(self)\u001b[0m\n\u001b[1;32m    201\u001b[0m \u001b[38;5;28mself\u001b[39m\u001b[38;5;241m.\u001b[39m__log_traceback \u001b[38;5;241m=\u001b[39m \u001b[38;5;28;01mFalse\u001b[39;00m\n\u001b[1;32m    202\u001b[0m \u001b[38;5;28;01mif\u001b[39;00m \u001b[38;5;28mself\u001b[39m\u001b[38;5;241m.\u001b[39m_exception \u001b[38;5;129;01mis\u001b[39;00m \u001b[38;5;129;01mnot\u001b[39;00m \u001b[38;5;28;01mNone\u001b[39;00m:\n\u001b[0;32m--> 203\u001b[0m     \u001b[38;5;28;01mraise\u001b[39;00m \u001b[38;5;28mself\u001b[39m\u001b[38;5;241m.\u001b[39m_exception\u001b[38;5;241m.\u001b[39mwith_traceback(\u001b[38;5;28mself\u001b[39m\u001b[38;5;241m.\u001b[39m_exception_tb)\n\u001b[1;32m    204\u001b[0m \u001b[38;5;28;01mreturn\u001b[39;00m \u001b[38;5;28mself\u001b[39m\u001b[38;5;241m.\u001b[39m_result\n",
      "File \u001b[0;32m~/anaconda3/envs/GalaxySED/lib/python3.11/asyncio/tasks.py:277\u001b[0m, in \u001b[0;36mTask.__step\u001b[0;34m(***failed resolving arguments***)\u001b[0m\n\u001b[1;32m    273\u001b[0m \u001b[38;5;28;01mtry\u001b[39;00m:\n\u001b[1;32m    274\u001b[0m     \u001b[38;5;28;01mif\u001b[39;00m exc \u001b[38;5;129;01mis\u001b[39;00m \u001b[38;5;28;01mNone\u001b[39;00m:\n\u001b[1;32m    275\u001b[0m         \u001b[38;5;66;03m# We use the `send` method directly, because coroutines\u001b[39;00m\n\u001b[1;32m    276\u001b[0m         \u001b[38;5;66;03m# don't have `__iter__` and `__next__` methods.\u001b[39;00m\n\u001b[0;32m--> 277\u001b[0m         result \u001b[38;5;241m=\u001b[39m coro\u001b[38;5;241m.\u001b[39msend(\u001b[38;5;28;01mNone\u001b[39;00m)\n\u001b[1;32m    278\u001b[0m     \u001b[38;5;28;01melse\u001b[39;00m:\n\u001b[1;32m    279\u001b[0m         result \u001b[38;5;241m=\u001b[39m coro\u001b[38;5;241m.\u001b[39mthrow(exc)\n",
      "Cell \u001b[0;32mIn[2], line 15\u001b[0m, in \u001b[0;36mmain\u001b[0;34m()\u001b[0m\n\u001b[1;32m     12\u001b[0m \u001b[38;5;66;03m# ハイパーパラメータを取得\u001b[39;00m\n\u001b[1;32m     13\u001b[0m hyperparams \u001b[38;5;241m=\u001b[39m get_hyperparams(galaxy_age\u001b[38;5;241m=\u001b[39mgalaxy_age, galaxy_mass\u001b[38;5;241m=\u001b[39mgalaxy_mass, starformation_timescale\u001b[38;5;241m=\u001b[39mstarformation_timescale_Gyr)  \u001b[38;5;66;03m# galaxy_age のみを指定\u001b[39;00m\n\u001b[0;32m---> 15\u001b[0m \u001b[38;5;28;01mawait\u001b[39;00m SEDModel\u001b[38;5;241m.\u001b[39mcalculate_sed(hyperparams)\n",
      "\u001b[0;31mTypeError\u001b[0m: object NoneType can't be used in 'await' expression"
     ]
    }
   ],
   "source": [
    "import asyncio\n",
    "from galaxy_sed.sed import SEDModel\n",
    "from galaxy_sed.diagram import delete_past_data\n",
    "from galaxy_sed.hyperparams import get_hyperparams\n",
    "\n",
    "galaxy_age = 4  # 4: 500Myr, 5: 600Myr, 129: 130Myr=13Gyr\n",
    "galaxy_mass = 100  # 1: 1e9, 100:1e11\n",
    "starformation_timescale_Gyr = 3.9 # 1: 1Gyr\n",
    "\n",
    "async def main():\n",
    "    delete_past_data()\n",
    "    # ハイパーパラメータを取得\n",
    "    hyperparams = get_hyperparams(galaxy_age=galaxy_age, galaxy_mass=galaxy_mass, starformation_timescale=starformation_timescale_Gyr)  # galaxy_age のみを指定\n",
    "\n",
    "    await SEDModel.calculate_sed(hyperparams) \n",
    "\n",
    "# イベントループを実行\n",
    "if __name__ == \"__main__\":\n",
    "    asyncio.run(main())  # main関数を非同期に実行\n"
   ]
  },
  {
   "cell_type": "code",
   "execution_count": null,
   "metadata": {},
   "outputs": [],
   "source": [
    "from galaxy_sed.diagram import sed_diagram\n",
    "\n",
    "sed_diagram()"
   ]
  }
 ],
 "metadata": {
  "kernelspec": {
   "display_name": "GalaxySED",
   "language": "python",
   "name": "python3"
  },
  "language_info": {
   "codemirror_mode": {
    "name": "ipython",
    "version": 3
   },
   "file_extension": ".py",
   "mimetype": "text/x-python",
   "name": "python",
   "nbconvert_exporter": "python",
   "pygments_lexer": "ipython3",
   "version": "3.11.10"
  }
 },
 "nbformat": 4,
 "nbformat_minor": 2
}
